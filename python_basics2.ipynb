{
 "cells": [
  {
   "cell_type": "markdown",
   "metadata": {},
   "source": [
    "# 3 Pythonの基本2"
   ]
  },
  {
   "cell_type": "markdown",
   "metadata": {},
   "source": [
    "## 3.1 組み込み型のオブジェクト指向機能"
   ]
  },
  {
   "cell_type": "markdown",
   "metadata": {},
   "source": [
    "### 3.1.1 メソッドの利用 - リスト"
   ]
  },
  {
   "cell_type": "code",
   "execution_count": null,
   "metadata": {},
   "outputs": [],
   "source": [
    "income = [8320, 8670, 9062, 9307, 9709]  # 直近5年の売り上げ"
   ]
  },
  {
   "cell_type": "code",
   "execution_count": null,
   "metadata": {},
   "outputs": [],
   "source": [
    "income.index(9062)   # 特定の要素のインデックスを調べる"
   ]
  },
  {
   "cell_type": "code",
   "execution_count": null,
   "metadata": {},
   "outputs": [],
   "source": [
    "income.sort()   # ソート(昇順/小さい順)\n",
    "income   # ソート結果を確認"
   ]
  },
  {
   "cell_type": "code",
   "execution_count": null,
   "metadata": {},
   "outputs": [],
   "source": [
    "income.reverse()   # 並び順を反転\n",
    "income   # ソート結果を確認"
   ]
  },
  {
   "cell_type": "code",
   "execution_count": null,
   "metadata": {},
   "outputs": [],
   "source": [
    "# ソートして並び順を反転し，降順の並べ替えを行いたい\n",
    "income.sort().reverse()\n",
    "\n",
    "# 上のコードがなぜエラーになるのか考えてみてください"
   ]
  },
  {
   "cell_type": "code",
   "execution_count": null,
   "metadata": {},
   "outputs": [],
   "source": [
    "income = [8320, 8670, 9062, 9307, 9709]  # 直近5年の売り上げ"
   ]
  },
  {
   "cell_type": "code",
   "execution_count": null,
   "metadata": {},
   "outputs": [],
   "source": [
    "income.append(7820)   # 要素をリスト末尾に追加\n",
    "income   # 結果を確認"
   ]
  },
  {
   "cell_type": "code",
   "execution_count": null,
   "metadata": {},
   "outputs": [],
   "source": [
    "income.extend([9810])   # リストの連結(リストを使ったリストの拡張)\n",
    "income   # 結果を確認"
   ]
  },
  {
   "cell_type": "code",
   "execution_count": null,
   "metadata": {},
   "outputs": [],
   "source": [
    "income.extend(9810)   # 結果を予想してから実行してください"
   ]
  },
  {
   "cell_type": "code",
   "execution_count": null,
   "metadata": {},
   "outputs": [],
   "source": [
    "# リストをスタックとして使う\n",
    "stack = [\"たろう\", \"はなこ\", \"よしお\"]  # 名前(文字列)のリストを定義"
   ]
  },
  {
   "cell_type": "code",
   "execution_count": null,
   "metadata": {},
   "outputs": [],
   "source": [
    "tail = stack.pop()    # リストの末尾を取り出し，リストを書き換える\n",
    "tail   # 取り出した名前を表示して確認"
   ]
  },
  {
   "cell_type": "code",
   "execution_count": null,
   "metadata": {},
   "outputs": [],
   "source": [
    "stack    # このリストがどのような状態になっているか，予想してから実行してください"
   ]
  },
  {
   "cell_type": "code",
   "execution_count": null,
   "metadata": {},
   "outputs": [],
   "source": [
    "stack.append(\"かずお\")   # スタックの末尾に名前を追加(pop()はない)\n",
    "stack   # リストを確認"
   ]
  },
  {
   "cell_type": "markdown",
   "metadata": {},
   "source": [
    "※スライドに戻ってください"
   ]
  },
  {
   "cell_type": "markdown",
   "metadata": {},
   "source": [
    "### 3.1.2 メソッドの利用 - 文字列"
   ]
  },
  {
   "cell_type": "code",
   "execution_count": null,
   "metadata": {},
   "outputs": [],
   "source": [
    "name = \"ももたろう\"   # 文字列を定義"
   ]
  },
  {
   "cell_type": "code",
   "execution_count": null,
   "metadata": {},
   "outputs": [],
   "source": [
    "name.find(\"た\")   # 文字列の検索(インデックスの取得)"
   ]
  },
  {
   "cell_type": "code",
   "execution_count": null,
   "metadata": {},
   "outputs": [],
   "source": [
    "name.index(\"た\")   # リストと同じメソッドを使う"
   ]
  },
  {
   "cell_type": "code",
   "execution_count": null,
   "metadata": {},
   "outputs": [],
   "source": [
    "name.replace(\"もも\", \"きん\")   # 文字列の置換"
   ]
  },
  {
   "cell_type": "code",
   "execution_count": null,
   "metadata": {},
   "outputs": [],
   "source": [
    "name.replace(\"もも\", \"\")   # 文字列の削除(\"空文字列\"による置換)"
   ]
  },
  {
   "cell_type": "code",
   "execution_count": null,
   "metadata": {},
   "outputs": [],
   "source": [
    "name.remove(\"もも\")   # remove()メソッドはない(replace()で代用する)"
   ]
  },
  {
   "cell_type": "code",
   "execution_count": null,
   "metadata": {},
   "outputs": [],
   "source": [
    "# 何が起こるか予測してから実行してくださいa\n",
    "name.replace(\"もも\", \"きん\").replace(\"たろう\", \"ちゃん\")   "
   ]
  },
  {
   "cell_type": "code",
   "execution_count": null,
   "metadata": {},
   "outputs": [],
   "source": [
    "# 文字列のメソッドを呼んでも，オブジェクトは書き換わらない(非破壊的)\n",
    "name.replace(\"もも\", \"きん\")\n",
    "name   # 内容を確認"
   ]
  },
  {
   "cell_type": "code",
   "execution_count": null,
   "metadata": {},
   "outputs": [],
   "source": [
    "# 文字列のメソッドは文字列オブジェクトを返すので\n",
    "# 結果を使い回したいときは変数に代入する\n",
    "name = name.replace(\"もも\", \"きん\")\n",
    "name = name.replace(\"たろう\", \"ちゃん\")\n",
    "name   # 結果を確認"
   ]
  },
  {
   "cell_type": "markdown",
   "metadata": {},
   "source": [
    "※スライドに戻ってください"
   ]
  },
  {
   "cell_type": "markdown",
   "metadata": {},
   "source": [
    "### 3.1.3 文字列のフォーマット"
   ]
  },
  {
   "cell_type": "code",
   "execution_count": null,
   "metadata": {},
   "outputs": [],
   "source": [
    "# エラーを起こさず，sという変数に\n",
    "# \"今年は2020年です。”という文字列が代入されるように書き換えてください\n",
    "\n",
    "year = 2020\n",
    "s = \"今年は\"+year+\"年です。\"\n",
    "s   # 変数の内容を確認"
   ]
  },
  {
   "cell_type": "code",
   "execution_count": null,
   "metadata": {},
   "outputs": [],
   "source": [
    "# 足し算は面倒。テンプレートを使うと便利\n",
    "s = \"今年は{}年です。\".format(year)   # str()による型変換が不要\n",
    "s   # 変数の内容を確認"
   ]
  },
  {
   "cell_type": "code",
   "execution_count": null,
   "metadata": {},
   "outputs": [],
   "source": [
    "# 順番を指定して埋め込む\n",
    "\"{2}さんは{0}さんと一緒に{1}さんの家に行きました。\".format(\"たろう\", \"はなこ\", \"よしお\")"
   ]
  },
  {
   "cell_type": "code",
   "execution_count": null,
   "metadata": {},
   "outputs": [],
   "source": [
    "# リストのインデックスを指定して埋め込む\n",
    "names = \"たろう\", \"はなこ\", \"よしお\"\n",
    "\"{0[2]}さんは{0[0]}さんと一緒に{0[1]}さんの家に行きました。\".format(names)"
   ]
  },
  {
   "cell_type": "code",
   "execution_count": null,
   "metadata": {},
   "outputs": [],
   "source": [
    "# リストのインデックスを指定して埋め込む(参考)\n",
    "names = \"たろう\", \"はなこ\", \"よしお\"\n",
    "\"{2}さんは{0}さんと一緒に{1}さんの家に行きました。\".format(*names)"
   ]
  },
  {
   "cell_type": "code",
   "execution_count": null,
   "metadata": {},
   "outputs": [],
   "source": [
    "# 有効桁の指定\n",
    "\"円周率は約{:.3}です。\".format(3.141592)"
   ]
  },
  {
   "cell_type": "markdown",
   "metadata": {},
   "source": [
    "※スライドに戻ってください"
   ]
  },
  {
   "cell_type": "markdown",
   "metadata": {},
   "source": [
    "### 3.1.4 リストと文字列"
   ]
  },
  {
   "cell_type": "code",
   "execution_count": null,
   "metadata": {},
   "outputs": [],
   "source": [
    "row = \"たろう はなこ よしお\"   # 空白区切りの名前文字列を定義\n",
    "names = row.split()   # 空白で分割，文字列のリストに変換\n",
    "names   # 結果を確認"
   ]
  },
  {
   "cell_type": "code",
   "execution_count": null,
   "metadata": {},
   "outputs": [],
   "source": [
    "row2 = \"ももこ,さちお,だいじろう\"   # コンマ区切りの名前文字列を定義\n",
    "names2 = row2.split(\",\")   # コンマで分割\n",
    "names2   # 結果を確認"
   ]
  },
  {
   "cell_type": "code",
   "execution_count": null,
   "metadata": {},
   "outputs": [],
   "source": [
    "# 結果を予測してから実行してください\n",
    "\n",
    "names.extend(names2)   # 2つの名前のリストを連結\n",
    "\n",
    "new_raw = \"/\".join(names)\n",
    "new_raw   # 結果を確認"
   ]
  },
  {
   "cell_type": "code",
   "execution_count": null,
   "metadata": {},
   "outputs": [],
   "source": [
    "# new_rawを/で区切り，文字列のリストに変換してください\n",
    "\n",
    "names3 = # <- ここにプログラムを書いてください"
   ]
  },
  {
   "cell_type": "markdown",
   "metadata": {},
   "source": [
    "※スライドに戻ってください"
   ]
  },
  {
   "cell_type": "markdown",
   "metadata": {},
   "source": [
    "## 3.2 リスト内包表記"
   ]
  },
  {
   "cell_type": "code",
   "execution_count": null,
   "metadata": {},
   "outputs": [],
   "source": [
    "income_row = \"8320, 8670, 9062, 9307, 9709,\"   # 売り上げのリスト(文字列)"
   ]
  },
  {
   "cell_type": "code",
   "execution_count": null,
   "metadata": {},
   "outputs": [],
   "source": [
    "# コンマで分割したい\n",
    "\n",
    "for inc in income_row.split(\",\"):\n",
    "    print(inc)"
   ]
  },
  {
   "cell_type": "code",
   "execution_count": null,
   "metadata": {},
   "outputs": [],
   "source": [
    "# コンマで分割したものをリストに格納したい\n",
    "income_list = []   # リストを初期化\n",
    "for inc in income_row.split(\",\"):\n",
    "    income_list.append(inc)\n",
    "    \n",
    "income_list   # 結果を確認"
   ]
  },
  {
   "cell_type": "code",
   "execution_count": null,
   "metadata": {},
   "outputs": [],
   "source": [
    "# リスト内包表記を使うと，一行で書ける\n",
    "income_list = [inc for inc in income_row.split(\",\")]\n",
    "income_list   # 結果を確認"
   ]
  },
  {
   "cell_type": "code",
   "execution_count": null,
   "metadata": {},
   "outputs": [],
   "source": [
    "#  文字列ではなく，数値をリストに格納するように書き換えてください\n",
    "\n",
    "income_list = []   # リストを初期化\n",
    "for inc in income_row.split(\",\"):\n",
    "    income_list.append(inc)\n",
    "    \n",
    "income_list   # 結果を確認"
   ]
  },
  {
   "cell_type": "code",
   "execution_count": null,
   "metadata": {},
   "outputs": [],
   "source": [
    "# リスト内包表記を使い，上記例と同様に\n",
    "# 数値をリストに格納するように書き換えてください\n",
    "\n",
    "income_list = [inc for inc in income_row.split(\",\")]\n",
    "income_list   # 結果を確認"
   ]
  },
  {
   "cell_type": "markdown",
   "metadata": {},
   "source": [
    "※スライドに戻ってください"
   ]
  },
  {
   "cell_type": "markdown",
   "metadata": {},
   "source": [
    "## 3.3 その他の組み込み型 - タプル，辞書，set"
   ]
  },
  {
   "cell_type": "markdown",
   "metadata": {},
   "source": [
    "### 3.3.1 タプル"
   ]
  },
  {
   "cell_type": "code",
   "execution_count": null,
   "metadata": {},
   "outputs": [],
   "source": [
    "t = (1, 2, 3, 4, 5)   # タプルを定義"
   ]
  },
  {
   "cell_type": "markdown",
   "metadata": {},
   "source": [
    "#### タプルとリストの類似性"
   ]
  },
  {
   "cell_type": "code",
   "execution_count": null,
   "metadata": {},
   "outputs": [],
   "source": [
    "t[0]   # インデックスを指定して要素を取り出す"
   ]
  },
  {
   "cell_type": "code",
   "execution_count": null,
   "metadata": {},
   "outputs": [],
   "source": [
    "t[1:4]   # スライスを使って複数の要素をタプルとして取り出す"
   ]
  },
  {
   "cell_type": "code",
   "execution_count": null,
   "metadata": {},
   "outputs": [],
   "source": [
    "t.index(3)   # メソッドを使って要素のインデックスを取得"
   ]
  },
  {
   "cell_type": "markdown",
   "metadata": {},
   "source": [
    "#### タプルとリストの違い\n",
    "\n",
    "タプルは変更不可能。"
   ]
  },
  {
   "cell_type": "code",
   "execution_count": null,
   "metadata": {},
   "outputs": [],
   "source": [
    "t[0] = 2   # 要素の変更ができない(エラーになる)"
   ]
  },
  {
   "cell_type": "code",
   "execution_count": null,
   "metadata": {},
   "outputs": [],
   "source": [
    "t.sort()   # 破壊的操作を行うメソッドが備わっていない(エラーになる)"
   ]
  },
  {
   "cell_type": "markdown",
   "metadata": {},
   "source": [
    "※スライドに戻ってください"
   ]
  },
  {
   "cell_type": "markdown",
   "metadata": {},
   "source": [
    "### 3.3.2 辞書"
   ]
  },
  {
   "cell_type": "code",
   "execution_count": null,
   "metadata": {},
   "outputs": [],
   "source": [
    "age = {\"bob\" : 23, \"fred\": 18, \"anthony\": 65}  # 辞書を定義"
   ]
  },
  {
   "cell_type": "code",
   "execution_count": null,
   "metadata": {},
   "outputs": [],
   "source": [
    "age[\"bob\"]   # 「キー(見だし)」を使って要素を取り出す"
   ]
  },
  {
   "cell_type": "code",
   "execution_count": null,
   "metadata": {},
   "outputs": [],
   "source": [
    "age[\"fred\"] = 19   # 要素の更新\n",
    "age   # 内容を確認"
   ]
  },
  {
   "cell_type": "code",
   "execution_count": null,
   "metadata": {},
   "outputs": [],
   "source": [
    "age[\"emily\"] = 32   # 要素を追加(新しいキーを使って代入)\n",
    "age   # 内容を確認"
   ]
  },
  {
   "cell_type": "code",
   "execution_count": null,
   "metadata": {},
   "outputs": [],
   "source": [
    "# for文に添えると，キー一覧を取り出せる\n",
    "for key in age:\n",
    "    print(key)"
   ]
  },
  {
   "cell_type": "code",
   "execution_count": null,
   "metadata": {},
   "outputs": [],
   "source": [
    "# 「bobさんの年齢は23歳です。」というような出力を\n",
    "# 辞書ageの要素すべてについて行うよう，forループの中を書き換えてください\n",
    "\n",
    "for key in age:\n",
    "    print(\"{}さんの年齢は{}歳です。\".format(key, age))"
   ]
  },
  {
   "cell_type": "markdown",
   "metadata": {},
   "source": [
    "### 3.3.3 辞書のメソッド"
   ]
  },
  {
   "cell_type": "code",
   "execution_count": null,
   "metadata": {},
   "outputs": [],
   "source": [
    "age.keys()   # 辞書のキーを取り出す"
   ]
  },
  {
   "cell_type": "code",
   "execution_count": null,
   "metadata": {},
   "outputs": [],
   "source": [
    "age.items()   # 辞書のキーと要素を取り出す"
   ]
  },
  {
   "cell_type": "code",
   "execution_count": null,
   "metadata": {},
   "outputs": [],
   "source": [
    "age.update({\"mary\": 12})   # 辞書を使った要素の追加\n",
    "age # 結果を確認する"
   ]
  },
  {
   "cell_type": "code",
   "execution_count": null,
   "metadata": {},
   "outputs": [],
   "source": [
    "# 何が起こるか，予想してから実行してください\n",
    "age.update({\"bob\": 24})\n",
    "age"
   ]
  },
  {
   "cell_type": "markdown",
   "metadata": {},
   "source": [
    "※スライドに戻ってください"
   ]
  },
  {
   "cell_type": "markdown",
   "metadata": {},
   "source": [
    "### 3.3.4 set(集合型)\n",
    "\n",
    "一意な要素からなる要素の集合"
   ]
  },
  {
   "cell_type": "code",
   "execution_count": null,
   "metadata": {},
   "outputs": [],
   "source": [
    "s = {1, 2, 3, 5}  # setを定義\n",
    "s   # 内容を確認"
   ]
  },
  {
   "cell_type": "code",
   "execution_count": null,
   "metadata": {},
   "outputs": [],
   "source": [
    "s.add(4)   # 要素を追加\n",
    "s   # 内容を確認"
   ]
  },
  {
   "cell_type": "code",
   "execution_count": null,
   "metadata": {},
   "outputs": [],
   "source": [
    "s.add(5)   # すでにある要素を追加\n",
    "s   # 内容を確認"
   ]
  },
  {
   "cell_type": "code",
   "execution_count": null,
   "metadata": {},
   "outputs": [],
   "source": [
    "# どのような結果になるか予想してから実行してください\n",
    "s.add(1)\n",
    "s   # 内容を確認"
   ]
  },
  {
   "cell_type": "code",
   "execution_count": null,
   "metadata": {},
   "outputs": [],
   "source": [
    "s.remove(1)   # 要素を取り除く\n",
    "s   # 内容を確認"
   ]
  },
  {
   "cell_type": "code",
   "execution_count": null,
   "metadata": {},
   "outputs": [],
   "source": [
    "s2 = {3, 4}\n",
    "s.union(s2)   # 和集合((s | s2でも同じ))"
   ]
  },
  {
   "cell_type": "code",
   "execution_count": null,
   "metadata": {},
   "outputs": [],
   "source": [
    "s.difference(s2)   # 差集合(s - s2でも同じ) "
   ]
  },
  {
   "cell_type": "code",
   "execution_count": null,
   "metadata": {},
   "outputs": [],
   "source": [
    "s.intersection(s2)   # 積集合(s & s2でも同じ)"
   ]
  },
  {
   "cell_type": "markdown",
   "metadata": {},
   "source": [
    "※スライドに戻ってください"
   ]
  },
  {
   "cell_type": "markdown",
   "metadata": {},
   "source": [
    "## 3.4 モジュールとパッケージ (ライブラリ)"
   ]
  },
  {
   "cell_type": "markdown",
   "metadata": {},
   "source": [
    "### 3.4.1 モジュールの読み込みと利用"
   ]
  },
  {
   "cell_type": "code",
   "execution_count": null,
   "metadata": {},
   "outputs": [],
   "source": [
    "import random   # 標準ライブラリのrandomモジュールをインポート"
   ]
  },
  {
   "cell_type": "code",
   "execution_count": null,
   "metadata": {},
   "outputs": [],
   "source": [
    "random.randint(1, 6)    # 1から6までの疑似乱数(整数)を生成"
   ]
  },
  {
   "cell_type": "code",
   "execution_count": null,
   "metadata": {},
   "outputs": [],
   "source": [
    "# サイコロを1万階振って，出た目をリストに保存する\n",
    "eyes = []   # 保存用のリストを初期化\n",
    "for i in range(10000):    # 1万回ループ\n",
    "    e = random.randint(1, 6)   # さいころを振る\n",
    "    eyes.append(e)    # リストに追加"
   ]
  },
  {
   "cell_type": "code",
   "execution_count": null,
   "metadata": {},
   "outputs": [],
   "source": [
    "# collectionsライブラリのCounterクラスを使って，出た目の総数を数える\n",
    "from collections import Counter\n",
    "ct = Counter(eyes)\n",
    "ct   # 結果を表示"
   ]
  },
  {
   "cell_type": "code",
   "execution_count": null,
   "metadata": {},
   "outputs": [],
   "source": [
    "# 1から6までの総数をリストに格納\n",
    "times = [ct[x] for x in range(1, len(ct.keys())+1)]\n",
    "times"
   ]
  },
  {
   "cell_type": "code",
   "execution_count": null,
   "metadata": {},
   "outputs": [],
   "source": [
    "import matplotlib.pyplot as plt   # グラフを描くライブラリを読み込む\n",
    "\n",
    "plt.bar(range(1, len(ct.keys())+1), times)   # 出た目の数を棒グラフに描画\n",
    "plt.show()         # グラフを表示"
   ]
  },
  {
   "cell_type": "markdown",
   "metadata": {},
   "source": [
    "※スライドに戻ってください"
   ]
  },
  {
   "cell_type": "markdown",
   "metadata": {},
   "source": [
    "### 3.4.2 数値演算ライブラリを使う - 三角関数"
   ]
  },
  {
   "cell_type": "code",
   "execution_count": null,
   "metadata": {},
   "outputs": [],
   "source": [
    "# 数値演算用の関数(sin, cos, radians(ラジアン変換用))をインポート\n",
    "from math import sin, cos, radians"
   ]
  },
  {
   "cell_type": "code",
   "execution_count": null,
   "metadata": {},
   "outputs": [],
   "source": [
    "r = radians(45)   # 45度をラジアンに変換\n",
    "sin(r), cos(r)   # 45度に相当するsin, cosを表示"
   ]
  },
  {
   "cell_type": "code",
   "execution_count": null,
   "metadata": {},
   "outputs": [],
   "source": [
    "x = []   # 座標のリストを初期化\n",
    "y = []\n",
    "\n",
    "# 0から360まで，30ずつステップしながらループ\n",
    "for deg in range(0, 361, 60):  \n",
    "    rad = radians(deg)   # 角度をラジアンに変換\n",
    "    x.append(cos(rad))   # コサインの値をリストに追加\n",
    "    y.append(sin(rad))    # サインの値をリストに追加\n",
    "    "
   ]
  },
  {
   "cell_type": "code",
   "execution_count": null,
   "metadata": {},
   "outputs": [],
   "source": [
    "plt.plot(x, y)   # 結果をプロット"
   ]
  },
  {
   "cell_type": "code",
   "execution_count": null,
   "metadata": {},
   "outputs": [],
   "source": [
    "# ループのステップ(60)を何段階か小さくしながら\n",
    "# プログラムを複数回実行してみてください\n",
    "\n",
    "x = []   # 座標のリストを初期化\n",
    "y = []\n",
    "\n",
    "for deg in range(0, 361, 60):  \n",
    "    rad = radians(deg)   # 角度をラジアンに変換\n",
    "    x.append(cos(rad))   # コサインの値をリストに追加\n",
    "    y.append(sin(rad))    # サインの値をリストに追加\n",
    "    \n",
    "plt.plot(x, y)   # 結果をプロット"
   ]
  },
  {
   "cell_type": "markdown",
   "metadata": {},
   "source": [
    "### 3.4.3 サイコロの出た目をグラフに描画する"
   ]
  },
  {
   "cell_type": "code",
   "execution_count": null,
   "metadata": {},
   "outputs": [],
   "source": [
    "def show_frequency(eyes):\n",
    "    \"\"\"\n",
    "    サイコロの出た目の数を棒グラフに表示する関数\n",
    "    \"\"\"\n",
    "    # 出た目の総数を数える\n",
    "    ct = Counter(eyes)\n",
    "    num = len(ct.keys())\n",
    "    # 総数をリストに格納\n",
    "    times = [ct[x] for x in sorted(ct.keys())]\n",
    "    # 出た目の数をリストに格納\n",
    "    idxs = [x for x in sorted(ct.keys())]\n",
    "    plt.bar(idxs, times)   # 出た目の数を棒グラフに描画\n",
    "    plt.show()         # グラフを表示\n"
   ]
  },
  {
   "cell_type": "code",
   "execution_count": null,
   "metadata": {},
   "outputs": [],
   "source": [
    "# 1つのサイコロを1万階振って，出た目の二倍の数をリストに保存する\n",
    "eyes = []   # 保存用のリストを初期化\n",
    "for i in range(10000):    # 1万回ループ\n",
    "    e = random.randint(1, 6)   # さいころを振る(1回目)\n",
    "    eyes.append(e*2)    # リストに追加\n",
    "\n",
    "show_frequency(eyes)"
   ]
  },
  {
   "cell_type": "code",
   "execution_count": null,
   "metadata": {},
   "outputs": [],
   "source": [
    "# 2つのサイコロを1万階振って，出た目の合計をリストに保存する\n",
    "eyes = []   # 保存用のリストを初期化\n",
    "for i in range(10000):    # 1万回ループ\n",
    "    e1 = random.randint(1, 6)   # さいころを振る(1回目)\n",
    "    e2 = random.randint(1, 6)   # さいころを振る(2回目)\n",
    "    eyes.append(e1+e2)    # リストに追加\n",
    "\n",
    "show_frequency(eyes)"
   ]
  },
  {
   "cell_type": "markdown",
   "metadata": {},
   "source": [
    "※スライドに戻ってください"
   ]
  },
  {
   "cell_type": "code",
   "execution_count": null,
   "metadata": {},
   "outputs": [],
   "source": []
  }
 ],
 "metadata": {
  "kernelspec": {
   "display_name": "Python 3",
   "language": "python",
   "name": "python3"
  },
  "language_info": {
   "codemirror_mode": {
    "name": "ipython",
    "version": 3
   },
   "file_extension": ".py",
   "mimetype": "text/x-python",
   "name": "python",
   "nbconvert_exporter": "python",
   "pygments_lexer": "ipython3",
   "version": "3.7.3"
  }
 },
 "nbformat": 4,
 "nbformat_minor": 2
}
