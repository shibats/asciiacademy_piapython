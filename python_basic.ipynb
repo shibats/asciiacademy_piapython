{
 "cells": [
  {
   "cell_type": "markdown",
   "metadata": {},
   "source": [
    "# 2 Pythonの基本 (1)"
   ]
  },
  {
   "cell_type": "markdown",
   "metadata": {},
   "source": [
    "## 2.1 数値型と四則演算"
   ]
  },
  {
   "cell_type": "markdown",
   "metadata": {},
   "source": [
    "### 2.1.1 テン(10)ゲーム\n",
    "\n",
    "1,2,3,4という整数と四則演算を組み合わせた数式を作って10をつくりましょう。"
   ]
  },
  {
   "cell_type": "code",
   "execution_count": null,
   "metadata": {
    "scrolled": true
   },
   "outputs": [],
   "source": [
    "1+2+3+4  # すべて足す"
   ]
  },
  {
   "cell_type": "code",
   "execution_count": null,
   "metadata": {},
   "outputs": [],
   "source": [
    "2*4+3-1  # かけ算を使う"
   ]
  },
  {
   "cell_type": "code",
   "execution_count": null,
   "metadata": {},
   "outputs": [],
   "source": [
    "3/1*2+4   # 割り算を使う"
   ]
  },
  {
   "cell_type": "code",
   "execution_count": null,
   "metadata": {},
   "outputs": [],
   "source": [
    "4*(3-1)+2   # 丸かっこを使って優先順位をつける"
   ]
  },
  {
   "cell_type": "code",
   "execution_count": null,
   "metadata": {},
   "outputs": [],
   "source": [
    "4*3-1/2   # 丸かっこをひと組補って，結果が10になるように式を書き換えてください"
   ]
  },
  {
   "cell_type": "code",
   "execution_count": null,
   "metadata": {},
   "outputs": [],
   "source": [
    "2**1*3+4   #  累乗(**)を使う"
   ]
  },
  {
   "cell_type": "markdown",
   "metadata": {},
   "source": [
    "※スライドに戻ってください"
   ]
  },
  {
   "cell_type": "markdown",
   "metadata": {},
   "source": [
    "### 2.2.2 数値演算と精度"
   ]
  },
  {
   "cell_type": "code",
   "execution_count": null,
   "metadata": {},
   "outputs": [],
   "source": [
    "10/1   # 割り算をすると整数から実数(浮動小数点数)になる"
   ]
  },
  {
   "cell_type": "code",
   "execution_count": null,
   "metadata": {},
   "outputs": [],
   "source": [
    "10/3   #  二進化十進表現の切り上げによる誤差"
   ]
  },
  {
   "cell_type": "code",
   "execution_count": null,
   "metadata": {},
   "outputs": [],
   "source": [
    "0.1+0.1+0.1  # 誤差の蓄積"
   ]
  },
  {
   "cell_type": "markdown",
   "metadata": {},
   "source": [
    "※スライドに戻ってください"
   ]
  },
  {
   "cell_type": "markdown",
   "metadata": {},
   "source": [
    "## 2.2 文字列と演算"
   ]
  },
  {
   "cell_type": "code",
   "execution_count": null,
   "metadata": {},
   "outputs": [],
   "source": [
    "\"Python\"    # 普通の文字列"
   ]
  },
  {
   "cell_type": "code",
   "execution_count": null,
   "metadata": {},
   "outputs": [],
   "source": [
    "\"Python\"+'は'+\"\"\"たのしい\"\"\"   # いろいろな引用符を使って文字列を定義し，連結する"
   ]
  },
  {
   "cell_type": "code",
   "execution_count": null,
   "metadata": {},
   "outputs": [],
   "source": [
    "\"\"\"機械\n",
    "学習\"\"\"    # 三重引用符を使うと，改行コード込みの文字列を定義できる"
   ]
  },
  {
   "cell_type": "code",
   "execution_count": null,
   "metadata": {},
   "outputs": [],
   "source": [
    "\"ディープ\\nラーニング\"   # バックスラッシュを使うとエスケープシーケンスが利用できる"
   ]
  },
  {
   "cell_type": "code",
   "execution_count": null,
   "metadata": {},
   "outputs": [],
   "source": [
    "r\"ディープ\\nラーニング\"   # バックスラッシュをエスケープしない文字列定義(Raw文字列)"
   ]
  },
  {
   "cell_type": "code",
   "execution_count": null,
   "metadata": {},
   "outputs": [],
   "source": [
    "\"-\"*40   # 文字列のかけ算"
   ]
  },
  {
   "cell_type": "code",
   "execution_count": null,
   "metadata": {},
   "outputs": [],
   "source": [
    "\"ABCDE\"-\"D\"   # 文字列の引き算は実行できない(エラーになる)"
   ]
  },
  {
   "cell_type": "code",
   "execution_count": null,
   "metadata": {},
   "outputs": [],
   "source": [
    "\"12345\"/\"3\"   # 割り算も同様にエラーになる"
   ]
  },
  {
   "cell_type": "markdown",
   "metadata": {},
   "source": [
    "※スライドに戻ってください"
   ]
  },
  {
   "cell_type": "markdown",
   "metadata": {},
   "source": [
    "## 2.3 型の変換と関数"
   ]
  },
  {
   "cell_type": "code",
   "execution_count": null,
   "metadata": {},
   "outputs": [],
   "source": [
    "123+\"456\"   # 数値と文字列の足し算はエラーになる"
   ]
  },
  {
   "cell_type": "code",
   "execution_count": null,
   "metadata": {},
   "outputs": [],
   "source": [
    "int(\"456\")   # 文字列を数値として足したい場合は，int()という関数を使う"
   ]
  },
  {
   "cell_type": "code",
   "execution_count": null,
   "metadata": {},
   "outputs": [],
   "source": [
    "str(123)   # 数値を文字列に変換したいときは，関数str()を使う"
   ]
  },
  {
   "cell_type": "code",
   "execution_count": null,
   "metadata": {},
   "outputs": [],
   "source": [
    "123+\"456\"   # 関数int()を補って，123と456という数値どうしの足し算に書き換えてください"
   ]
  },
  {
   "cell_type": "code",
   "execution_count": null,
   "metadata": {},
   "outputs": [],
   "source": [
    "123+\"456\"   # 関数str()を補って，\"123\"と\"456\"という二つの文字列を連結してください"
   ]
  },
  {
   "cell_type": "markdown",
   "metadata": {},
   "source": [
    "※スライドに戻ってください"
   ]
  },
  {
   "cell_type": "markdown",
   "metadata": {},
   "source": [
    "## 2.4 変数と代入演算子「=」"
   ]
  },
  {
   "cell_type": "markdown",
   "metadata": {},
   "source": [
    "### 2.4.1 変数の生成"
   ]
  },
  {
   "cell_type": "code",
   "execution_count": null,
   "metadata": {},
   "outputs": [],
   "source": [
    "pi = 0    # 計算に利用する変数を定義(初期化)"
   ]
  },
  {
   "cell_type": "code",
   "execution_count": null,
   "metadata": {},
   "outputs": [],
   "source": [
    "G = 9.8   # 重力加速度(m/s**2)を変数に代入して定義"
   ]
  },
  {
   "cell_type": "code",
   "execution_count": null,
   "metadata": {},
   "outputs": [],
   "source": [
    "G   # 変数の中身を表示したい"
   ]
  },
  {
   "cell_type": "code",
   "execution_count": null,
   "metadata": {},
   "outputs": [],
   "source": [
    "G/6   # 定義済みの変数を参照して，月の重力加速度を求める"
   ]
  },
  {
   "cell_type": "code",
   "execution_count": null,
   "metadata": {},
   "outputs": [],
   "source": [
    "# サイコロをn回振って，全ての目が1になる確率\n",
    "(1/6)**n   # 未定義の変数を使おう(参照しよう)とするとエラーになる"
   ]
  },
  {
   "cell_type": "code",
   "execution_count": null,
   "metadata": {},
   "outputs": [],
   "source": [
    "n = 3   # 変数を定義してから，計算を実行\n",
    "(1/6)**n"
   ]
  },
  {
   "cell_type": "code",
   "execution_count": null,
   "metadata": {},
   "outputs": [],
   "source": [
    "p = (1/6)**n  # 計算結果を新しい変数pに代入"
   ]
  },
  {
   "cell_type": "code",
   "execution_count": null,
   "metadata": {},
   "outputs": [],
   "source": [
    "p  # 結果を表示する"
   ]
  },
  {
   "cell_type": "markdown",
   "metadata": {},
   "source": [
    "※スライドに戻ってください"
   ]
  },
  {
   "cell_type": "markdown",
   "metadata": {},
   "source": [
    "### 2.4.2 代入と型"
   ]
  },
  {
   "cell_type": "code",
   "execution_count": null,
   "metadata": {},
   "outputs": [],
   "source": [
    "p = \"Python\"   # 既存の変数名に違う型(文字列)を代入"
   ]
  },
  {
   "cell_type": "code",
   "execution_count": null,
   "metadata": {},
   "outputs": [],
   "source": [
    "v = 3   # バージョン番号を変数に代入"
   ]
  },
  {
   "cell_type": "code",
   "execution_count": null,
   "metadata": {},
   "outputs": [],
   "source": [
    "# p3という変数に\"Python3\"という文字列が代入されるように書き換えください\n",
    "# ヒント : 関数を使います\n",
    "p3 = p+v"
   ]
  },
  {
   "cell_type": "code",
   "execution_count": null,
   "metadata": {},
   "outputs": [],
   "source": [
    "#p3という変数に正しい文字列が正しいか，表示して確認しましょう"
   ]
  },
  {
   "cell_type": "code",
   "execution_count": null,
   "metadata": {},
   "outputs": [],
   "source": [
    "# print()という関数でも，変数の内容を表示できます\n",
    "print(p)"
   ]
  },
  {
   "cell_type": "markdown",
   "metadata": {},
   "source": [
    "※スライドに戻ってください"
   ]
  },
  {
   "cell_type": "markdown",
   "metadata": {},
   "source": [
    "## 2.5 フロー制御1 - 条件分岐"
   ]
  },
  {
   "cell_type": "markdown",
   "metadata": {},
   "source": [
    "### 2.5.1 if文の基本"
   ]
  },
  {
   "cell_type": "code",
   "execution_count": null,
   "metadata": {},
   "outputs": [],
   "source": [
    "# 動かす前に結果が分かるif文\n",
    "if 3 > 2:\n",
    "    print(\"3は2より大きい\")"
   ]
  },
  {
   "cell_type": "code",
   "execution_count": null,
   "metadata": {},
   "outputs": [],
   "source": [
    "# ちょっと考えると分かるif文\n",
    "if 4*3-1/2 == 10:\n",
    "    print(\"4*3-1/2を計算すると10になる\")\n",
    "else:\n",
    "    print(\"4*3-1/2を計算すると10にならない\")"
   ]
  },
  {
   "cell_type": "code",
   "execution_count": null,
   "metadata": {},
   "outputs": [],
   "source": [
    "# if文の条件が成り立つように，関数str()を補ってください\n",
    "if 123 == \"123\":\n",
    "    print(\"型の違うデータの比較は常に成り立ちません\")"
   ]
  },
  {
   "cell_type": "code",
   "execution_count": null,
   "metadata": {},
   "outputs": [],
   "source": [
    "# エラーが発生しないように，関数int()を補ってください\n",
    "if 5 > \"3\":\n",
    "    print(\"型の違うデータの比較はエラーになります\")"
   ]
  },
  {
   "cell_type": "code",
   "execution_count": null,
   "metadata": {},
   "outputs": [],
   "source": [
    "if \"03\" < \"2\":\n",
    "    print(\"文字列の比較は，文字コードによって簡易に行われます\")"
   ]
  },
  {
   "cell_type": "markdown",
   "metadata": {},
   "source": [
    "※スライドに戻ってください"
   ]
  },
  {
   "cell_type": "markdown",
   "metadata": {},
   "source": [
    "### 2.5.2 より実践的なif文"
   ]
  },
  {
   "cell_type": "code",
   "execution_count": null,
   "metadata": {},
   "outputs": [],
   "source": [
    "# 論理式　- 複合条件\n",
    "# 閏年の判定\n",
    "y = 2020  # この変数をいろいろに書き換えてセルを実行してみてください\n",
    "if y % 4 == 0 and y % 100 != 0:\n",
    "    print(str(y)+\"年はうるう年です\")\n",
    "else:\n",
    "    print(str(y)+\"年はうるう年ではありません\")\n"
   ]
  },
  {
   "cell_type": "code",
   "execution_count": null,
   "metadata": {},
   "outputs": [],
   "source": [
    "# 入れ子のif文\n",
    "# 閏年の判定\n",
    "y = 1900  # この変数をいろいろに書き換えてセルを実行してみてください\n",
    "if y % 4 == 0 and y % 100 != 0:\n",
    "    print(str(y)+\"年はうるう年です\")\n",
    "else:\n",
    "    if y % 400 == 0:\n",
    "        print(str(y)+\"年はうるう年です\")\n",
    "    else:\n",
    "        print(str(y)+\"年はうるう年ではありません\")\n"
   ]
  },
  {
   "cell_type": "code",
   "execution_count": null,
   "metadata": {},
   "outputs": [],
   "source": [
    "# 括弧つきの複合条件\n",
    "y = 1900\n",
    "if (y % 4 == 0 and y % 100 != 0) or y % 400 == 0:\n",
    "    print(str(y)+\"年はうるう年です\")\n",
    "else:\n",
    "    print(str(y)+\"年はうるう年ではありません\")\n"
   ]
  },
  {
   "cell_type": "code",
   "execution_count": null,
   "metadata": {},
   "outputs": [],
   "source": [
    "# lcの値を変えてセルを実行しながら，振り子の周期が1秒になる糸の長さを探してみてください\n",
    "lc = 10   # 振り子の長さ(cm)\n",
    "lm = lc/100  # 振り子の長さ(m)\n",
    "# 振り子の周期を計算して変数に代入\n",
    "s = (lm/9.8)**0.5*2*3.14\n",
    "\n",
    "if 1 < s < 1.01:\n",
    "    print(\"糸の長さが\"+str(lc)+\"センチの時，振り子の周期は約1秒\")\n",
    "else:\n",
    "    print(\"糸の長さが\"+str(lc)+\"センチの時，振り子の周期は\"+str(s)+\"秒\")\n"
   ]
  },
  {
   "cell_type": "markdown",
   "metadata": {},
   "source": [
    "※スライドに戻ってください"
   ]
  },
  {
   "cell_type": "markdown",
   "metadata": {},
   "source": [
    "## 2.6 リスト"
   ]
  },
  {
   "cell_type": "markdown",
   "metadata": {},
   "source": [
    "### 2.6.1 リストの定義と要素へのアクセス"
   ]
  },
  {
   "cell_type": "code",
   "execution_count": null,
   "metadata": {},
   "outputs": [],
   "source": [
    "l = [1, 2, 3, 4, 5]  # リストを定義，変数に代入"
   ]
  },
  {
   "cell_type": "code",
   "execution_count": null,
   "metadata": {},
   "outputs": [],
   "source": [
    "l[0]   # インデックスを指定して要素を取り出す"
   ]
  },
  {
   "cell_type": "code",
   "execution_count": null,
   "metadata": {},
   "outputs": [],
   "source": [
    "len(l)   # リストの長さ"
   ]
  },
  {
   "cell_type": "code",
   "execution_count": null,
   "metadata": {},
   "outputs": [],
   "source": [
    "l[len(l)-1]   # インデックスに長さ-1を指定して末尾の要素を取り出す"
   ]
  },
  {
   "cell_type": "code",
   "execution_count": null,
   "metadata": {},
   "outputs": [],
   "source": [
    "l[-1]   # インデックスに-1を指定すると末尾の要素を指定できる"
   ]
  },
  {
   "cell_type": "code",
   "execution_count": null,
   "metadata": {},
   "outputs": [],
   "source": [
    "l[1] = 20   # インデックスを指定して要素を代入， リストを書き換える\n",
    "l    # リストを表示して書き換わったことを確認"
   ]
  },
  {
   "cell_type": "markdown",
   "metadata": {},
   "source": [
    "※スライドに戻ってください"
   ]
  },
  {
   "cell_type": "markdown",
   "metadata": {},
   "source": [
    "### 2.6.2 スライス"
   ]
  },
  {
   "cell_type": "code",
   "execution_count": null,
   "metadata": {},
   "outputs": [],
   "source": [
    "l[0:4]   # スライスを指定して複数の要素を取り出す"
   ]
  },
  {
   "cell_type": "code",
   "execution_count": null,
   "metadata": {},
   "outputs": [],
   "source": [
    "l[0:1]   # 要素が一つでも，スライスを使うと常にリストになる"
   ]
  },
  {
   "cell_type": "code",
   "execution_count": null,
   "metadata": {},
   "outputs": [],
   "source": [
    "l[2:]   # 2番目のスライスのインデックスを省略すると，末尾までになる"
   ]
  },
  {
   "cell_type": "code",
   "execution_count": null,
   "metadata": {},
   "outputs": [],
   "source": [
    "l[:4]   # 一番目のスライスのインデックスを省略すると，先頭からの要素になる"
   ]
  },
  {
   "cell_type": "markdown",
   "metadata": {},
   "source": [
    "### 2.6.3 リストと演算，if文"
   ]
  },
  {
   "cell_type": "code",
   "execution_count": null,
   "metadata": {},
   "outputs": [],
   "source": [
    "l + [6,7,8]   # リストを追加"
   ]
  },
  {
   "cell_type": "code",
   "execution_count": null,
   "metadata": {},
   "outputs": [],
   "source": [
    "l*4   # リストのかけ算"
   ]
  },
  {
   "cell_type": "code",
   "execution_count": null,
   "metadata": {},
   "outputs": [],
   "source": [
    "l - 1   # 引き算は実行できない(エラーになる)"
   ]
  },
  {
   "cell_type": "code",
   "execution_count": null,
   "metadata": {},
   "outputs": [],
   "source": [
    "l / 1   # 割り算もどうようにエラーになる"
   ]
  },
  {
   "cell_type": "code",
   "execution_count": null,
   "metadata": {},
   "outputs": [],
   "source": [
    "if [1, 2, 3] == [1, 2, 3]:\n",
    "    print(\"==演算子を使った場合，リストの完全一致の時のみ条件が成り立ちます\")\n",
    "else:\n",
    "    print(\"==演算子ではリストの一部が一致すれば条件が成り立ちます\")"
   ]
  },
  {
   "cell_type": "code",
   "execution_count": null,
   "metadata": {},
   "outputs": [],
   "source": [
    "l2 = [2, 3, 4, 5]   # 新しいリストを定義して変数に代入\n",
    "if 3 in l2:\n",
    "    print(\"in演算子を使うと，「リストの中に3があるかどうか」というようにリストの要素を調べることができます\")"
   ]
  },
  {
   "cell_type": "code",
   "execution_count": null,
   "metadata": {},
   "outputs": [],
   "source": [
    "if [2, 3] in l2:\n",
    "    print(\"in演算子では，リストの複数の要素があるかどうか調べることができます\")\n",
    "else:\n",
    "    print(\"in演算子では，リストの複数の要素があるかどうかを調べることができません\")"
   ]
  },
  {
   "cell_type": "markdown",
   "metadata": {},
   "source": [
    "### 2.6.4 リストをグラフに表示する"
   ]
  },
  {
   "cell_type": "code",
   "execution_count": null,
   "metadata": {},
   "outputs": [],
   "source": [
    "# より実践的な例\n",
    "income = [8320, 8670, 9062, 9307, 9709]  # 直近5年の売り上げ"
   ]
  },
  {
   "cell_type": "code",
   "execution_count": null,
   "metadata": {},
   "outputs": [],
   "source": [
    "import matplotlib.pyplot as plt   # グラフを描くライブラリを読み込む\n",
    "\n",
    "plt.plot(income)   # グラフを描画\n",
    "plt.show()         # グラフを表示"
   ]
  },
  {
   "cell_type": "code",
   "execution_count": null,
   "metadata": {},
   "outputs": [],
   "source": [
    "income[-1]-income[0]  # 5年間の売り上げの差"
   ]
  },
  {
   "cell_type": "code",
   "execution_count": null,
   "metadata": {},
   "outputs": [],
   "source": [
    "profits = [1594, 1607, 1672, 1699, 1703]  # 過去5年の利益"
   ]
  },
  {
   "cell_type": "code",
   "execution_count": null,
   "metadata": {},
   "outputs": [],
   "source": [
    "# グラフにする\n",
    "plt.plot(profits)  # グラフを描画\n",
    "plt.show()         # グラフを表示"
   ]
  },
  {
   "cell_type": "markdown",
   "metadata": {},
   "source": [
    "※スライドに戻ってください"
   ]
  },
  {
   "cell_type": "markdown",
   "metadata": {},
   "source": [
    "## 2.7 フロー制御2 - ループ"
   ]
  },
  {
   "cell_type": "markdown",
   "metadata": {},
   "source": [
    "### 2.7.1 基本的なループ"
   ]
  },
  {
   "cell_type": "code",
   "execution_count": null,
   "metadata": {},
   "outputs": [],
   "source": [
    "# リストの中身はループで一つずつ取り出せる\n",
    "# 定義済みの変数income(5年間の売り上げ)を利用\n",
    "for i in income:  # リストを添えてfor文でループ\n",
    "    print(i)      # 繰り返し変数(i)を表示"
   ]
  },
  {
   "cell_type": "code",
   "execution_count": null,
   "metadata": {},
   "outputs": [],
   "source": [
    "# 回数を指定したループ\n",
    "for i in range(10):  # 0から9までのループ\n",
    "    print(i)"
   ]
  },
  {
   "cell_type": "code",
   "execution_count": null,
   "metadata": {},
   "outputs": [],
   "source": [
    "# 10の階乗を計算\n",
    "t = 0\n",
    "for i in range(1, 11):\n",
    "    t = t+i\n",
    "t   # 結果を表示"
   ]
  },
  {
   "cell_type": "markdown",
   "metadata": {},
   "source": [
    "### 2.7.2 より実践的なループの利用例"
   ]
  },
  {
   "cell_type": "code",
   "execution_count": null,
   "metadata": {},
   "outputs": [],
   "source": [
    "# インデックスを使ってリストの要素を取り出して表示\n",
    "for i in range(len(income)):\n",
    "    # 繰り返し変数(idx)に0 - 4までの数字が入ってくる\n",
    "    print(income[i], i)"
   ]
  },
  {
   "cell_type": "code",
   "execution_count": null,
   "metadata": {},
   "outputs": [],
   "source": [
    "# 売り上げと利益のリストを使って，利益率(利益/売り上げ)を計算してみる\n",
    "\n",
    "for idx in range(len(income)):  # incomeの長さ分ループを回す\n",
    "    rate = profits[idx]/income[idx]  # 利益率(利益/売り上げ)を計算\n",
    "    print(rate)   # 利益率を表示\n",
    "\n",
    "# パーセンテージで表示するように書き換えてください"
   ]
  },
  {
   "cell_type": "code",
   "execution_count": null,
   "metadata": {},
   "outputs": [],
   "source": [
    "# 利益率をリストに入れてみる\n",
    "rates = []   # 空のリストで変数を初期化\n",
    "\n",
    "for idx in range(len(income)):  # incomeの長さ分ループを回す\n",
    "    rate = profits[idx]/income[idx]  # 利益率(利益/売り上げ)を計算\n",
    "    rates = rates + [rate]    # [rate]で計算した利益率のリストを作り，ratesのリストに連結\n",
    "    \n",
    "# (同じく)パーセンテージをリストに保存するように書き換えてください"
   ]
  },
  {
   "cell_type": "code",
   "execution_count": null,
   "metadata": {},
   "outputs": [],
   "source": [
    "rates    # できた利益率のリストを確認"
   ]
  },
  {
   "cell_type": "code",
   "execution_count": null,
   "metadata": {},
   "outputs": [],
   "source": [
    "# 利益率のグラフを表示してみましょう\n",
    "plt.plot(rates)  # グラフを描画\n",
    "plt.show()         # グラフを表示"
   ]
  },
  {
   "cell_type": "markdown",
   "metadata": {},
   "source": [
    "※スライドに戻ってください"
   ]
  },
  {
   "cell_type": "markdown",
   "metadata": {},
   "source": [
    "## 2.8 関数の定義"
   ]
  },
  {
   "cell_type": "code",
   "execution_count": null,
   "metadata": {},
   "outputs": [],
   "source": [
    "def sqrt(v):\n",
    "    \"\"\"\n",
    "    引き数(v)を受け取り，ルートを計算する関数\n",
    "    \"\"\"\n",
    "    r = v**0.5   #  ルートを計算(0.5乗する)\n",
    "    return r    # 計算結果を関数の外に返す(戻り値)"
   ]
  },
  {
   "cell_type": "code",
   "execution_count": null,
   "metadata": {},
   "outputs": [],
   "source": [
    "# 関数を呼び出す\n",
    "sqrt(2)"
   ]
  },
  {
   "cell_type": "code",
   "execution_count": null,
   "metadata": {},
   "outputs": [],
   "source": [
    "# 次の行がなぜエラーになるのか考えてください\n",
    "sqrt()"
   ]
  },
  {
   "cell_type": "code",
   "execution_count": null,
   "metadata": {},
   "outputs": [],
   "source": [
    "# 次の行がなぜエラーになるのか考えてください\n",
    "sqrt(\"2\")"
   ]
  },
  {
   "cell_type": "code",
   "execution_count": null,
   "metadata": {},
   "outputs": [],
   "source": [
    "def soc(lc):\n",
    "    \"\"\"\n",
    "    単振動の周期を求める。引き数には振り子の長さ(cm)を渡す\n",
    "    \"\"\"\n",
    "    lm = lc/100  # 振り子の長さ(m)\n",
    "    # 振り子の周期を計算して変数に代入\n",
    "    s = sqrt(lm/9.8)*2*3.14\n",
    "    return s   # 計算結果を関数の外に戻す"
   ]
  },
  {
   "cell_type": "code",
   "execution_count": null,
   "metadata": {},
   "outputs": [],
   "source": [
    "soc(10)   # 10cmの振り子の周期を求める"
   ]
  },
  {
   "cell_type": "code",
   "execution_count": null,
   "metadata": {},
   "outputs": [],
   "source": [
    "# 10cmから30cmまでの長さの振り子の周期を求める\n",
    "for i in range(10, 31):\n",
    "    # 10から30までiを増やしながらループ\n",
    "    s = soc(i)   # 振り子の周期を関数で計算\n",
    "    print(i, s)   # 振り子の長さと周期を表示"
   ]
  },
  {
   "cell_type": "markdown",
   "metadata": {},
   "source": [
    "※この教材はここで終わりです。お疲れ様でした。"
   ]
  },
  {
   "cell_type": "code",
   "execution_count": null,
   "metadata": {},
   "outputs": [],
   "source": []
  }
 ],
 "metadata": {
  "kernelspec": {
   "display_name": "Python 3",
   "language": "python",
   "name": "python3"
  },
  "language_info": {
   "codemirror_mode": {
    "name": "ipython",
    "version": 3
   },
   "file_extension": ".py",
   "mimetype": "text/x-python",
   "name": "python",
   "nbconvert_exporter": "python",
   "pygments_lexer": "ipython3",
   "version": "3.7.3"
  }
 },
 "nbformat": 4,
 "nbformat_minor": 2
}
